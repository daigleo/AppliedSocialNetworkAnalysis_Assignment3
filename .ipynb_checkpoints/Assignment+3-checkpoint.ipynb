{
 "cells": [
  {
   "cell_type": "markdown",
   "metadata": {},
   "source": [
    "---\n",
    "\n",
    "_You are currently looking at **version 1.2** of this notebook. To download notebooks and datafiles, as well as get help on Jupyter notebooks in the Coursera platform, visit the [Jupyter Notebook FAQ](https://www.coursera.org/learn/python-social-network-analysis/resources/yPcBs) course resource._\n",
    "\n",
    "---"
   ]
  },
  {
   "cell_type": "markdown",
   "metadata": {},
   "source": [
    "# Assignment 3\n",
    "\n",
    "In this assignment you will explore measures of centrality on two networks, a friendship network in Part 1, and a blog network in Part 2."
   ]
  },
  {
   "cell_type": "markdown",
   "metadata": {},
   "source": [
    "## Part 1\n",
    "\n",
    "Answer questions 1-4 using the network `G1`, a network of friendships at a university department. Each node corresponds to a person, and an edge indicates friendship. \n",
    "\n",
    "*The network has been loaded as networkx graph object `G1`.*"
   ]
  },
  {
   "cell_type": "code",
   "execution_count": null,
   "metadata": {},
   "outputs": [],
   "source": [
    "import networkx as nx\n",
    "\n",
    "G1 = nx.read_gml('friendships.gml')"
   ]
  },
  {
   "cell_type": "markdown",
   "metadata": {},
   "source": [
    "### Question 1\n",
    "\n",
    "Find the degree centrality, closeness centrality, and normalized betweeness centrality (excluding endpoints) of node 100.\n",
    "\n",
    "*This function should return a tuple of floats `(degree_centrality, closeness_centrality, betweenness_centrality)`.*"
   ]
  },
  {
   "cell_type": "code",
   "execution_count": null,
   "metadata": {},
   "outputs": [],
   "source": [
    "def answer_one():\n",
    "        \n",
    "    # Find degree centrality\n",
    "    deg_cen = nx.degree_centrality(G1)[100]\n",
    "    \n",
    "    # Find closeness centrality\n",
    "    clo_cen = nx.closeness_centrality(G1)[100]\n",
    "    \n",
    "    # Find betweeness centrality\n",
    "    bet_cen = nx.betweenness_centrality(G1, normalized = True, endpoints = False)[100]\n",
    "    \n",
    "    return deg_cen, clo_cen, bet_cen\n",
    "# answer_one()"
   ]
  },
  {
   "cell_type": "code",
   "execution_count": null,
   "metadata": {},
   "outputs": [],
   "source": [
    "def find_n_max(x, n=1):\n",
    "    '''\n",
    "        Takes a dictionary as input and returns the\n",
    "        key corresponding to the max value. An optional\n",
    "        parameter n can be specified if the top n\n",
    "        entries should be returned.\n",
    "    '''\n",
    "    vals = x.items()\n",
    "    vals = sorted(vals, key=lambda x: x[1], reverse = True)\n",
    "\n",
    "    return [node for node,_ in vals[:n]]"
   ]
  },
  {
   "cell_type": "markdown",
   "metadata": {},
   "source": [
    "<br>\n",
    "#### For Questions 2, 3, and 4, assume that you do not know anything about the structure of the network, except for the all the centrality values of the nodes. That is, use one of the covered centrality measures to rank the nodes and find the most appropriate candidate.\n",
    "<br>"
   ]
  },
  {
   "cell_type": "markdown",
   "metadata": {},
   "source": [
    "### Question 2\n",
    "\n",
    "Suppose you are employed by an online shopping website and are tasked with selecting one user in network G1 to send an online shopping voucher to. We expect that the user who receives the voucher will send it to their friends in the network.  You want the voucher to reach as many nodes as possible. The voucher can be forwarded to multiple users at the same time, but the travel distance of the voucher is limited to one step, which means if the voucher travels more than one step in this network, it is no longer valid. Apply your knowledge in network centrality to select the best candidate for the voucher. \n",
    "\n",
    "*This function should return an integer, the name of the node.*"
   ]
  },
  {
   "cell_type": "code",
   "execution_count": null,
   "metadata": {
    "scrolled": true
   },
   "outputs": [],
   "source": [
    "def answer_two():   \n",
    "    # We are looking for a node with a high\n",
    "    # number of connections (a high degree\n",
    "    # centrality) and with short connecting\n",
    "    # paths (high closeness centrality)\n",
    "    # need to calculate both these features\n",
    "    deg_cen = nx.degree_centrality(G1)\n",
    "    clo_cen = nx.closeness_centrality(G1)\n",
    "    \n",
    "#     # get five most connected nodes\n",
    "#     top5 = find_n_max(deg_cen, n=5)\n",
    "    \n",
    "#     # find nodes with most shortest paths\n",
    "#     best_node = None\n",
    "#     best_closeness = 0\n",
    "#     for node in top5:\n",
    "#         if best_node is None or clo_cen[node] > best_closeness:\n",
    "#             best_node = node\n",
    "            \n",
    "    # get five most connected nodes\n",
    "    top5 = find_n_max(clo_cen, n=5)\n",
    "    \n",
    "    # find nodes with most shortest paths\n",
    "    best_node = None\n",
    "    best_degree = 0\n",
    "    for node in top5:\n",
    "        if best_node is None or deg_cen[node] > best_degree:\n",
    "            best_node = node\n",
    "            \n",
    "    return best_node\n",
    "# answer_two()"
   ]
  },
  {
   "cell_type": "markdown",
   "metadata": {},
   "source": [
    "### Question 3\n",
    "\n",
    "Now the limit of the voucher’s travel distance has been removed. Because the network is connected, regardless of who you pick, every node in the network will eventually receive the voucher. However, we now want to ensure that the voucher reaches the nodes in the lowest average number of hops.\n",
    "\n",
    "How would you change your selection strategy? Write a function to tell us who is the best candidate in the network under this condition.\n",
    "\n",
    "*This function should return an integer, the name of the node.*"
   ]
  },
  {
   "cell_type": "code",
   "execution_count": null,
   "metadata": {
    "scrolled": false
   },
   "outputs": [],
   "source": [
    "def answer_three():\n",
    "        \n",
    "    deg_cen = nx.closeness_centrality(G1)\n",
    "    \n",
    "    return find_n_max(deg_cen)[0]\n",
    "# answer_three()"
   ]
  },
  {
   "cell_type": "markdown",
   "metadata": {},
   "source": [
    "### Question 4\n",
    "\n",
    "Assume the restriction on the voucher’s travel distance is still removed, but now a competitor has developed a strategy to remove a person from the network in order to disrupt the distribution of your company’s voucher. Your competitor is specifically targeting people who are often bridges of information flow between other pairs of people. Identify the single riskiest person to be removed under your competitor’s strategy?\n",
    "\n",
    "*This function should return an integer, the name of the node.*"
   ]
  },
  {
   "cell_type": "code",
   "execution_count": null,
   "metadata": {},
   "outputs": [],
   "source": [
    "def answer_four():\n",
    "        \n",
    "    bet_cen = nx.betweenness_centrality(G1)\n",
    "    \n",
    "    return find_n_max(bet_cen)[0]\n",
    "\n",
    "# answer_four()"
   ]
  },
  {
   "cell_type": "markdown",
   "metadata": {
    "collapsed": true
   },
   "source": [
    "## Part 2\n",
    "\n",
    "`G2` is a directed network of political blogs, where nodes correspond to a blog and edges correspond to links between blogs. Use your knowledge of PageRank and HITS to answer Questions 5-9."
   ]
  },
  {
   "cell_type": "code",
   "execution_count": null,
   "metadata": {},
   "outputs": [],
   "source": [
    "G2 = nx.read_gml('blogs.gml')"
   ]
  },
  {
   "cell_type": "markdown",
   "metadata": {},
   "source": [
    "### Question 5\n",
    "\n",
    "Apply the Scaled Page Rank Algorithm to this network. Find the Page Rank of node 'realclearpolitics.com' with damping value 0.85.\n",
    "\n",
    "*This function should return a float.*"
   ]
  },
  {
   "cell_type": "code",
   "execution_count": null,
   "metadata": {},
   "outputs": [],
   "source": [
    "def answer_five():\n",
    "        \n",
    "    # Your Code Here\n",
    "    \n",
    "    return # Your Answer Here"
   ]
  },
  {
   "cell_type": "markdown",
   "metadata": {},
   "source": [
    "### Question 6\n",
    "\n",
    "Apply the Scaled Page Rank Algorithm to this network with damping value 0.85. Find the 5 nodes with highest Page Rank. \n",
    "\n",
    "*This function should return a list of the top 5 blogs in desending order of Page Rank.*"
   ]
  },
  {
   "cell_type": "code",
   "execution_count": null,
   "metadata": {},
   "outputs": [],
   "source": [
    "def answer_six():\n",
    "        \n",
    "    # Your Code Here\n",
    "    \n",
    "    return # Your Answer Here"
   ]
  },
  {
   "cell_type": "markdown",
   "metadata": {
    "collapsed": true
   },
   "source": [
    "### Question 7\n",
    "\n",
    "Apply the HITS Algorithm to the network to find the hub and authority scores of node 'realclearpolitics.com'. \n",
    "\n",
    "*Your result should return a tuple of floats `(hub_score, authority_score)`.*"
   ]
  },
  {
   "cell_type": "code",
   "execution_count": null,
   "metadata": {},
   "outputs": [],
   "source": [
    "def answer_seven():\n",
    "        \n",
    "    # Your Code Here\n",
    "    \n",
    "    return # Your Answer Here"
   ]
  },
  {
   "cell_type": "markdown",
   "metadata": {
    "collapsed": true
   },
   "source": [
    "### Question 8 \n",
    "\n",
    "Apply the HITS Algorithm to this network to find the 5 nodes with highest hub scores.\n",
    "\n",
    "*This function should return a list of the top 5 blogs in desending order of hub scores.*"
   ]
  },
  {
   "cell_type": "code",
   "execution_count": null,
   "metadata": {},
   "outputs": [],
   "source": [
    "def answer_eight():\n",
    "        \n",
    "    # Your Code Here\n",
    "    \n",
    "    return # Your Answer Here"
   ]
  },
  {
   "cell_type": "markdown",
   "metadata": {},
   "source": [
    "### Question 9 \n",
    "\n",
    "Apply the HITS Algorithm to this network to find the 5 nodes with highest authority scores.\n",
    "\n",
    "*This function should return a list of the top 5 blogs in desending order of authority scores.*"
   ]
  },
  {
   "cell_type": "code",
   "execution_count": null,
   "metadata": {},
   "outputs": [],
   "source": [
    "def answer_nine():\n",
    "        \n",
    "    # Your Code Here\n",
    "    \n",
    "    return # Your Answer Here"
   ]
  }
 ],
 "metadata": {
  "coursera": {
   "course_slug": "python-social-network-analysis",
   "graded_item_id": "4XCse",
   "launcher_item_id": "utvmz",
   "part_id": "cZ7Jg"
  },
  "kernelspec": {
   "display_name": "Python 3",
   "language": "python",
   "name": "python3"
  },
  "language_info": {
   "codemirror_mode": {
    "name": "ipython",
    "version": 3
   },
   "file_extension": ".py",
   "mimetype": "text/x-python",
   "name": "python",
   "nbconvert_exporter": "python",
   "pygments_lexer": "ipython3",
   "version": "3.7.0b4"
  }
 },
 "nbformat": 4,
 "nbformat_minor": 2
}
